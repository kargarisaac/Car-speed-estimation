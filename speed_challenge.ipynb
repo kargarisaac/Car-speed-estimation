{
 "cells": [
  {
   "cell_type": "code",
   "execution_count": 7,
   "metadata": {
    "collapsed": true
   },
   "outputs": [],
   "source": [
    "import numpy as np\n",
    "import tensorflow as tf\n",
    "import os\n",
    "import cv2\n",
    "import matplotlib.pyplot as plt\n",
    "\n",
    "%matplotlib inline"
   ]
  },
  {
   "cell_type": "code",
   "execution_count": 8,
   "metadata": {
    "collapsed": true
   },
   "outputs": [],
   "source": [
    "# video to frame\n",
    "\n",
    "def get_video_frames(data_filepath, override_existing=True):\n",
    "    \"\"\"\n",
    "    Takes in a video MP4 file, given its filepath, and converts it to\n",
    "    a series of ordered JPEG files, collected in a folder with a corresponding name.\n",
    "    Returns the number of frames read in.\n",
    "    If a frames directory already exists, just returns the number of files in that directory.\n",
    "\n",
    "    Credit: http://stackoverflow.com/questions/33311153/python-extracting-and-saving-video-frames\n",
    "    \"\"\"\n",
    "    data_frames_dir = data_filepath[:-4]\n",
    "    if os.path.exists(data_frames_dir) and not override_existing:\n",
    "        print('Data converted to frames already.')\n",
    "    else:\n",
    "        print('Getting Frames...')\n",
    "        os.makedirs(data_frames_dir)\n",
    "        vidcap = cv2.VideoCapture(data_filepath)\n",
    "        success, image = vidcap.read()\n",
    "        count = 0\n",
    "        success = True\n",
    "        while success:\n",
    "            success, image = vidcap.read()\n",
    "            cv2.imwrite(data_frames_dir + '/frame%d.jpg' % count, image)  # Save frame as JPEG\n",
    "            if count % 100 == 0:\n",
    "                print('Read frame%d.jpg' % count)\n",
    "            if cv2.waitKey(10) == 27:  # Exit if Escape is hit\n",
    "                break\n",
    "            count += 1\n",
    "        count -= 1\n",
    "        print('Data converted to frames.')\n",
    "\n",
    "    return len(filter(lambda frame:\n",
    "        frame[:5] == 'frame' and frame[-4:] == '.jpg', os.listdir(data_frames_dir))) - 1\n"
   ]
  },
  {
   "cell_type": "code",
   "execution_count": 9,
   "metadata": {
    "scrolled": true
   },
   "outputs": [],
   "source": [
    "# train_frames = get_video_frames('data/train.mp4')"
   ]
  },
  {
   "cell_type": "code",
   "execution_count": null,
   "metadata": {},
   "outputs": [],
   "source": []
  },
  {
   "cell_type": "code",
   "execution_count": null,
   "metadata": {
    "collapsed": true
   },
   "outputs": [],
   "source": []
  }
 ],
 "metadata": {
  "kernelspec": {
   "display_name": "Python 3",
   "language": "python",
   "name": "python3"
  },
  "language_info": {
   "codemirror_mode": {
    "name": "ipython",
    "version": 3
   },
   "file_extension": ".py",
   "mimetype": "text/x-python",
   "name": "python",
   "nbconvert_exporter": "python",
   "pygments_lexer": "ipython3",
   "version": "3.5.2"
  },
  "widgets": {
   "state": {},
   "version": "1.1.2"
  }
 },
 "nbformat": 4,
 "nbformat_minor": 2
}
